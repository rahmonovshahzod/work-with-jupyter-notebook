{
  "nbformat": 4,
  "nbformat_minor": 0,
  "metadata": {
    "colab": {
      "provenance": []
    },
    "kernelspec": {
      "name": "python3",
      "display_name": "Python 3"
    },
    "language_info": {
      "name": "python"
    }
  },
  "cells": [
    {
      "cell_type": "markdown",
      "source": [
        "# Data Science Tools and Ecosystem\n"
      ],
      "metadata": {
        "id": "juIZL1Q-sDft"
      }
    },
    {
      "cell_type": "markdown",
      "source": [
        "#In this notebook, Data Science Tools and Ecosystem are summarized"
      ],
      "metadata": {
        "id": "Q12PaCnIsc3D"
      }
    },
    {
      "cell_type": "markdown",
      "source": [
        "Some of the popular languages that Data Scientists use are:\n",
        "\n",
        "1. Python\n",
        "2. R\n",
        "3. SQL\n",
        "4. Java\n",
        "5. Julia\n"
      ],
      "metadata": {
        "id": "EEWnBeIXssoU"
      }
    },
    {
      "cell_type": "markdown",
      "source": [
        "Some of the commonly used libraries used by Data Scientists include:\n",
        "\n",
        "1. Pandas\n",
        "2. NumPy\n",
        "3. Matplotlib\n",
        "4. Scikit-learn\n",
        "5. TensorFlow\n",
        "5. PyTorch"
      ],
      "metadata": {
        "id": "pNSDH5I7tJjo"
      }
    },
    {
      "cell_type": "markdown",
      "source": [
        "| Data Science Tools |\n",
        "| --- |\n",
        "| Jupyter Notebook |\n",
        "| RStudio |\n",
        "| Apache Zeppelin |\n"
      ],
      "metadata": {
        "id": "6GPJqbrGuADu"
      }
    },
    {
      "cell_type": "markdown",
      "source": [
        "### Below are a few examples of evaluating arithmetic expressions in Python:\n",
        "\n"
      ],
      "metadata": {
        "id": "iigyXZLbuijg"
      }
    },
    {
      "cell_type": "code",
      "source": [
        "# Addition\n",
        "print(5 + 3)\n",
        "\n",
        "# Subtraction\n",
        "print(10 - 2)\n",
        "\n",
        "# Multiplication\n",
        "print(4 * 2)\n",
        "\n",
        "# Division\n",
        "print(16 / 2)"
      ],
      "metadata": {
        "colab": {
          "base_uri": "https://localhost:8080/"
        },
        "id": "8RAX4vj4veLo",
        "outputId": "78e82a24-8892-45e7-ff77-9186b100e82e"
      },
      "execution_count": 1,
      "outputs": [
        {
          "output_type": "stream",
          "name": "stdout",
          "text": [
            "8\n",
            "8\n",
            "8\n",
            "8.0\n"
          ]
        }
      ]
    },
    {
      "cell_type": "markdown",
      "source": [
        "# This is a simple arithmetic expression to multiply then add integers\n"
      ],
      "metadata": {
        "id": "rFF5Mp4PuyeH"
      }
    },
    {
      "cell_type": "code",
      "source": [
        "result = (3 * 4) + 5\n",
        "print(result)"
      ],
      "metadata": {
        "colab": {
          "base_uri": "https://localhost:8080/"
        },
        "id": "1ippLD4LvjvT",
        "outputId": "c71ea15f-3bf0-4059-b7f7-86d2dc0d2336"
      },
      "execution_count": 2,
      "outputs": [
        {
          "output_type": "stream",
          "name": "stdout",
          "text": [
            "17\n"
          ]
        }
      ]
    },
    {
      "cell_type": "markdown",
      "source": [
        "# This will convert 200 minutes to hours by dividing by 60"
      ],
      "metadata": {
        "id": "YDSXaS5IvEaU"
      }
    },
    {
      "cell_type": "code",
      "source": [
        "minutes = 200\n",
        "hours = minutes / 60\n",
        "print(hours)\n"
      ],
      "metadata": {
        "colab": {
          "base_uri": "https://localhost:8080/"
        },
        "id": "2Z0lbHpEvl0n",
        "outputId": "e75e975a-9d4d-4b1a-d1cc-6c5b8931f2cd"
      },
      "execution_count": 3,
      "outputs": [
        {
          "output_type": "stream",
          "name": "stdout",
          "text": [
            "3.3333333333333335\n"
          ]
        }
      ]
    },
    {
      "cell_type": "markdown",
      "source": [
        "**Objectives:**\n",
        "\n",
        "- Understand the basics of Python programming language.\n",
        "- Learn how to use Jupyter notebooks for data analysis.\n",
        "- List popular languages for Data Science.\n",
        "- Understand the concept of data structures in Python.\n",
        "- Learn how to manipulate data using Python libraries like Pandas and NumPy.\n"
      ],
      "metadata": {
        "id": "cI2YrULevy0x"
      }
    },
    {
      "cell_type": "markdown",
      "source": [
        "## Author\n",
        "\n",
        "Rahmonov Shaxzod"
      ],
      "metadata": {
        "id": "TQnd36WCv_4i"
      }
    },
    {
      "cell_type": "markdown",
      "source": [],
      "metadata": {
        "id": "ZOpfhgFbwCWy"
      }
    }
  ]
}